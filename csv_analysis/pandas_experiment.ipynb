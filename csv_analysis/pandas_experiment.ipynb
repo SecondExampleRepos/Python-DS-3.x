{
 "cells": [
  {
   "cell_type": "code",
   "execution_count": 12,
   "metadata": {},
   "outputs": [],
   "source": [
    "import pandas as pd\n",
    "\n",
    "def load_csv_with_custom_headers(file_path):\n",
    "    metadata = {}\n",
    "    with open(file_path, 'r') as file:\n",
    "        for i in range(1, 14):  \n",
    "            line = file.readline().strip().replace('\"', '')\n",
    "            if ',' in line:\n",
    "                key, value = line.split(',', 1)\n",
    "                metadata[key.strip()] = value.strip()\n",
    "\n",
    "    headers = pd.read_csv(file_path, skiprows=13, nrows=1).columns.tolist()  #\n",
    "    units = pd.read_csv(file_path, skiprows=14, nrows=1).values.flatten().tolist() \n",
    "    combined_headers = [f\"{header} ({unit})\" if unit else header for header, unit in zip(headers, units)]\n",
    "\n",
    "    data_df = pd.read_csv(file_path, skiprows=16, header=None)\n",
    "    data_df.columns = combined_headers  \n",
    "\n",
    "    return metadata, data_df\n"
   ]
  },
  {
   "cell_type": "code",
   "execution_count": 13,
   "metadata": {},
   "outputs": [
    {
     "name": "stdout",
     "output_type": "stream",
     "text": [
      "Misc Info:\n",
      "Format: AiM CSV File\n",
      "Session: Sonoma Race\n",
      "Vehicle: gr86\n",
      "Racer: saurabh\n",
      "Championship: 86 challenge\n",
      "Comment: 3/9, 3rd session was wet. 215 sx2, ST43 f/r, -2.3 front camber, 8mm spacers in the rear\n",
      "Date: Saturday, March 9, 2024\n",
      "Time: 2:41 PM\n",
      "Sample Rate: 20\n",
      "Duration: 1028\n",
      "Segment: Session\n",
      "Beacon Markers: 145.52,407.179,529.928,650.23,768.736,886.452,1028\n",
      "Segment Times: 2:25.520,4:21.659,2:02.749,2:00.302,1:58.506,1:57.716,2:21.548\n",
      "\n",
      "Data Sample:\n",
      "   Time (s)  GPS Speed (mph)  GPS Nsat ( )  GPS LatAcc (g)  GPS LonAcc (g)  \\\n",
      "0      0.00           20.113            14             0.0             0.0   \n",
      "1      0.05           20.113            14             0.0             0.0   \n",
      "2      0.10           20.113            14             0.0             0.0   \n",
      "3      0.15           20.113            14             0.0             0.0   \n",
      "4      0.20           20.113            14             0.0             0.0   \n",
      "\n",
      "   GPS Slope (deg)  GPS Heading (deg)  GPS Gyro (deg/s)  GPS Altitude (ft)  \\\n",
      "0          -0.0839           -18.3998               0.0           -21.8368   \n",
      "1          -0.0839           -18.3998               0.0           -21.8368   \n",
      "2          -0.0839           -18.3998               0.0           -21.8368   \n",
      "3          -0.0839           -18.3998               0.0           -21.8368   \n",
      "4          -0.0839           -18.3998               0.0           -21.8368   \n",
      "\n",
      "   GPS PosAccuracy (ft)  ...  IMU YAW (deg/s)  BrakePress (psi)  SpeedV (mph)  \\\n",
      "0                0.0318  ...             -0.3                 0            21   \n",
      "1                0.0318  ...             -0.3                 0            21   \n",
      "2                0.0318  ...             -0.3                 0            21   \n",
      "3                0.0318  ...             -0.3                 0            21   \n",
      "4                0.0318  ...             -0.3                 0            21   \n",
      "\n",
      "   IMU Lateral G (g)  IMU LongG (g)  Clutch ( )  Gear (gear)  OilTemp (°F)  \\\n",
      "0                0.0           0.37           1            1         197.6   \n",
      "1                0.0           0.37           1            1         197.6   \n",
      "2                0.0           0.37           1            1         197.6   \n",
      "3                0.0           0.37           1            1         197.6   \n",
      "4                0.0           0.36           1            1         197.6   \n",
      "\n",
      "   ECT (°F)  Intake Air Temp (°F)  \n",
      "0     201.2                  55.4  \n",
      "1     201.2                  55.4  \n",
      "2     201.2                  55.4  \n",
      "3     201.2                  55.4  \n",
      "4     201.2                  55.4  \n",
      "\n",
      "[5 rows x 36 columns]\n",
      "['Time (s)', 'GPS Speed (mph)', 'GPS Nsat ( )', 'GPS LatAcc (g)', 'GPS LonAcc (g)', 'GPS Slope (deg)', 'GPS Heading (deg)', 'GPS Gyro (deg/s)', 'GPS Altitude (ft)', 'GPS PosAccuracy (ft)', 'GPS SpdAccuracy (mph)', 'GPS Radius (ft)', 'GPS Latitude (deg)', 'GPS Longitude (deg)', 'Internal Battery (V)', 'External Voltage (V)', 'RPM dup 1 (rpm)', 'InlineAcc (g)', 'LateralAcc (g)', 'VerticalAcc (g)', 'RollRate (deg/s)', 'PitchRate (deg/s)', 'YawRate (deg/s)', 'RPM dup 2 (rpm)', 'Throttle (%)', 'SteerAngle (deg)', 'IMU YAW (deg/s)', 'BrakePress (psi)', 'SpeedV (mph)', 'IMU Lateral G (g)', 'IMU LongG (g)', 'Clutch ( )', 'Gear (gear)', 'OilTemp (°F)', 'ECT (°F)', 'Intake Air Temp (°F)']\n"
     ]
    }
   ],
   "source": [
    "\n",
    "file_path = '' \n",
    "metadata, data_df = load_csv_with_custom_headers(file_path)\n",
    "print(\"Misc Info:\")\n",
    "for key, value in metadata.items():\n",
    "    print(f\"{key}: {value}\")\n",
    "\n",
    "print(\"\\nData Sample:\")\n",
    "print(data_df.head())\n",
    "print(data_df.columns.tolist())\n"
   ]
  },
  {
   "cell_type": "code",
   "execution_count": null,
   "metadata": {},
   "outputs": [],
   "source": []
  }
 ],
 "metadata": {
  "kernelspec": {
   "display_name": ".venv",
   "language": "python",
   "name": "python3"
  },
  "language_info": {
   "codemirror_mode": {
    "name": "ipython",
    "version": 3
   },
   "file_extension": ".py",
   "mimetype": "text/x-python",
   "name": "python",
   "nbconvert_exporter": "python",
   "pygments_lexer": "ipython3",
   "version": "3.10.0"
  }
 },
 "nbformat": 4,
 "nbformat_minor": 2
}
