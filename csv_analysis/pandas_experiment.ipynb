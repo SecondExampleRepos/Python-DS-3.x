{
 "cells": [
  {
   "cell_type": "code",
   "execution_count": 9,
   "metadata": {},
   "outputs": [],
   "source": [
    "import pandas as pd\n",
    "\n",
    "def load_csv_with_custom_headers(file_path):\n",
    "    metadata = {}\n",
    "    with open(file_path, 'r') as file:\n",
    "        for i in range(1, 14):  \n",
    "            line = file.readline().strip().replace('\"', '')\n",
    "            if ',' in line:\n",
    "                key, value = line.split(',', 1)\n",
    "                metadata[key.strip()] = value.strip()\n",
    "\n",
    "    headers = pd.read_csv(file_path, skiprows=13, nrows=1).columns.tolist()  #\n",
    "    units = pd.read_csv(file_path, skiprows=14, nrows=1).values.flatten().tolist() \n",
    "    combined_headers = [f\"{header} ({unit})\" if unit else header for header, unit in zip(headers, units)]\n",
    "\n",
    "    data_df = pd.read_csv(file_path, skiprows=16, header=None)\n",
    "    data_df.columns = combined_headers  \n",
    "\n",
    "    return metadata, data_df\n"
   ]
  },
  {
   "cell_type": "code",
   "execution_count": 11,
   "metadata": {},
   "outputs": [
    {
     "name": "stdout",
     "output_type": "stream",
     "text": [
      "Misc Info:\n",
      "Format: AiM CSV File\n",
      "Session: Sonoma Race\n",
      "Vehicle: gr86\n",
      "Racer: saurabh\n",
      "Championship: 86 challenge\n",
      "Comment: 3/9, 3rd session was wet. 215 sx2, ST43 f/r, -2.3 front camber, 8mm spacers in the rear\n",
      "Date: Saturday, March 9, 2024\n",
      "Time: 2:41 PM\n",
      "Sample Rate: 20\n",
      "Duration: 1028\n",
      "Segment: Session\n",
      "Beacon Markers: 145.52,407.179,529.928,650.23,768.736,886.452,1028\n",
      "Segment Times: 2:25.520,4:21.659,2:02.749,2:00.302,1:58.506,1:57.716,2:21.548\n",
      "\n",
      "Data Sample:\n",
      "   Time  GPS Speed (20.113)  GPS Nsat (14.0)  GPS LatAcc  GPS LonAcc  \\\n",
      "0  0.00              20.113               14         0.0         0.0   \n",
      "1  0.05              20.113               14         0.0         0.0   \n",
      "2  0.10              20.113               14         0.0         0.0   \n",
      "3  0.15              20.113               14         0.0         0.0   \n",
      "4  0.20              20.113               14         0.0         0.0   \n",
      "\n",
      "   GPS Slope (-0.0839)  GPS Heading (-18.3998)  GPS Gyro  \\\n",
      "0              -0.0839                -18.3998       0.0   \n",
      "1              -0.0839                -18.3998       0.0   \n",
      "2              -0.0839                -18.3998       0.0   \n",
      "3              -0.0839                -18.3998       0.0   \n",
      "4              -0.0839                -18.3998       0.0   \n",
      "\n",
      "   GPS Altitude (-21.8368)  GPS PosAccuracy (0.0318)  ...  IMU YAW (-0.3)  \\\n",
      "0                 -21.8368                    0.0318  ...            -0.3   \n",
      "1                 -21.8368                    0.0318  ...            -0.3   \n",
      "2                 -21.8368                    0.0318  ...            -0.3   \n",
      "3                 -21.8368                    0.0318  ...            -0.3   \n",
      "4                 -21.8368                    0.0318  ...            -0.3   \n",
      "\n",
      "   BrakePress  SpeedV (21.0)  IMU Lateral G  IMU LongG (0.37)  Clutch (1.0)  \\\n",
      "0           0             21            0.0              0.37             1   \n",
      "1           0             21            0.0              0.37             1   \n",
      "2           0             21            0.0              0.37             1   \n",
      "3           0             21            0.0              0.37             1   \n",
      "4           0             21            0.0              0.36             1   \n",
      "\n",
      "   Gear (1.0)  OilTemp (197.6)  ECT (201.2)  Intake Air Temp (55.4)  \n",
      "0           1            197.6        201.2                    55.4  \n",
      "1           1            197.6        201.2                    55.4  \n",
      "2           1            197.6        201.2                    55.4  \n",
      "3           1            197.6        201.2                    55.4  \n",
      "4           1            197.6        201.2                    55.4  \n",
      "\n",
      "[5 rows x 36 columns]\n",
      "['Time', 'GPS Speed (20.113)', 'GPS Nsat (14.0)', 'GPS LatAcc', 'GPS LonAcc', 'GPS Slope (-0.0839)', 'GPS Heading (-18.3998)', 'GPS Gyro', 'GPS Altitude (-21.8368)', 'GPS PosAccuracy (0.0318)', 'GPS SpdAccuracy (0.19)', 'GPS Radius (32808.399)', 'GPS Latitude (38.15995722)', 'GPS Longitude (-122.45327935)', 'Internal Battery (4.4)', 'External Voltage (14.3)', 'RPM dup 1', 'InlineAcc (0.16)', 'LateralAcc (-0.3)', 'VerticalAcc (-1.0)', 'RollRate (-0.4)', 'PitchRate (0.3)', 'YawRate (-0.4)', 'RPM dup 2 (4460.0)', 'Throttle (7.84)', 'SteerAngle (-0.1)', 'IMU YAW (-0.3)', 'BrakePress', 'SpeedV (21.0)', 'IMU Lateral G', 'IMU LongG (0.37)', 'Clutch (1.0)', 'Gear (1.0)', 'OilTemp (197.6)', 'ECT (201.2)', 'Intake Air Temp (55.4)']\n"
     ]
    }
   ],
   "source": [
    "\n",
    "file_path = '/Users/sarosh.khan/Desktop/86dc-explore/samples/saurabh_gr86_Sonoma Race_a_0045.csv' \n",
    "metadata, data_df = load_csv_with_custom_headers(file_path)\n",
    "print(\"Misc Info:\")\n",
    "for key, value in metadata.items():\n",
    "    print(f\"{key}: {value}\")\n",
    "\n",
    "print(\"\\nData Sample:\")\n",
    "print(data_df.head())\n",
    "print(data_df.columns.tolist())\n"
   ]
  },
  {
   "cell_type": "code",
   "execution_count": null,
   "metadata": {},
   "outputs": [],
   "source": []
  }
 ],
 "metadata": {
  "kernelspec": {
   "display_name": ".venv",
   "language": "python",
   "name": "python3"
  },
  "language_info": {
   "codemirror_mode": {
    "name": "ipython",
    "version": 3
   },
   "file_extension": ".py",
   "mimetype": "text/x-python",
   "name": "python",
   "nbconvert_exporter": "python",
   "pygments_lexer": "ipython3",
   "version": "3.10.0"
  }
 },
 "nbformat": 4,
 "nbformat_minor": 2
}
